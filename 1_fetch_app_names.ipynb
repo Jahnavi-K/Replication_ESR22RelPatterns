{
 "cells": [
  {
   "cell_type": "markdown",
   "id": "2f2ab410",
   "metadata": {},
   "source": [
    "pip install google-play-scraper"
   ]
  },
  {
   "cell_type": "markdown",
   "id": "1b866b2c",
   "metadata": {},
   "source": [
    "pip install --upgrade google-play-scraper"
   ]
  },
  {
   "cell_type": "markdown",
   "id": "f18042c5",
   "metadata": {},
   "source": [
    "# APP METADATA"
   ]
  },
  {
   "cell_type": "code",
   "execution_count": 4,
   "id": "d0c4dbb9",
   "metadata": {},
   "outputs": [],
   "source": [
    "from google_play_scraper import app,Sort,search\n",
    "import pandas as pd\n",
    "import numpy as np\n",
    "import json,os,uuid\n",
    "import csv\n",
    "import requests #retries and timeout Github Exception handling\n",
    "import time #sleep the process for sometime\n",
    "\n",
    "with open('output/App_metadata.csv', 'w', newline='') as csv_file:\n",
    "    writer = csv.writer(csv_file)\n",
    "    writer.writerow(['category','app_id', 'title', 'score', 'genre', 'price', 'free', 'currency', 'developer', 'installs'])\n",
    "    categories = ['automotive', 'books', 'business', 'education', 'entertainment', 'family and relationship', 'finance', 'food', 'graphic and design', 'game', 'health and fitness', 'lifestyle', 'news and magazines', 'photo and video', 'real estate', 'shopping', 'social media', 'sports', 'travel', 'utility and productivity', 'games']\n",
    "\n",
    "for category in categories:\n",
    "    while True:\n",
    "        try:\n",
    "            gplay_apps = search(\n",
    "                \"best \"+category+\" apps\",\n",
    "                lang=\"en\",  # defaults to 'en'\n",
    "                country=\"in\",  # defaults to 'us'\n",
    "                n_hits=30  # defaults to 30 (= Google's maximum)\n",
    "            )\n",
    "            gplay_df = pd.DataFrame(np.array(gplay_apps),columns=['review'])\n",
    "            gplay_df2 = gplay_df.join(pd.DataFrame(gplay_df.pop('review').tolist()))\n",
    "\n",
    "            gplay_df2.insert(loc = 0, column = \"category\", value = category, allow_duplicates=False)\n",
    "            # g_df2 = g_df2.rename(columns={'appId': 'App_URL','title':'App_Name','genre':'Categories','score':'Rating','currency':'Loaction','installs':'Downloads'})\n",
    "            gplay_df2 = gplay_df2.drop(columns={'icon' ,'screenshots','video','videoImage','descriptionHTML','description'})\n",
    "#             gplay_df2\n",
    "        #     g_df2.to_csv('output/App_metadata.csv', encoding='utf-8')\n",
    "            gplay_df2.to_csv('output/App_metadata.csv', mode='a', index=False, header=False, encoding='utf-8')\n",
    "        except ConnectionResetError as e:\n",
    "            if e.response.status_code == 54:\n",
    "                print(\"Connection reset by peer\")\n",
    "                time.sleep(300) #5 minutes\n",
    "                continue\n",
    "            else:\n",
    "                print(f\"Request failed with status code {e.response.status_code}\")\n",
    "                time.sleep(120) #2 minutes\n",
    "                continue\n",
    "        break\n",
    "    "
   ]
  },
  {
   "cell_type": "markdown",
   "id": "4e36d0b2",
   "metadata": {},
   "source": [
    "appIDs = g_df2['appId'].values\n",
    "print(appIDs)"
   ]
  },
  {
   "cell_type": "code",
   "execution_count": 13,
   "id": "adde913e",
   "metadata": {},
   "outputs": [
    {
     "data": {
      "text/plain": [
       "array(['com.google.android.projection.gearhead', 'com.carwale',\n",
       "       'gomechanic.retail', 'com.howacarworks', 'com.cuvora.carinfo',\n",
       "       'mrigapps.andriod.fuelcons', 'com.playway.cms2017',\n",
       "       'com.andromo.dev420527.app606734',\n",
       "       'com.autolauncher.motorcar.free', 'com.zenthek.autozen',\n",
       "       'com.telenav.launcher', 'com.futureband.cars',\n",
       "       'air.com.A3dtuning.Tuning3D',\n",
       "       'com.soft24hours.dictionaries.dictionary27',\n",
       "       'br.com.ctncardoso.ctncar',\n",
       "       'com.SGS.DrivingSchoolGames.RealCarParkingSimulator',\n",
       "       'com.edictonary.Automotive.Dictionary',\n",
       "       'com.cardesign.new3dtuning.truckmodifying',\n",
       "       'com.keyconnect.android', 'com.AutoRepairInvoice',\n",
       "       'com.girnarsoft.cardekho', 'com.softartstudio.carwebguru',\n",
       "       'com.autonews.crain',\n",
       "       'com.vehicle.rto.vahan.status.information.register',\n",
       "       'com.formacar.android', 'com.DominikKotlarEULC',\n",
       "       'gomechanic.spares', 'org.eobdfacile.android',\n",
       "       'com.zymbia.carpm_mechanic', 'com.kineapps.mycar'], dtype=object)"
      ]
     },
     "execution_count": 13,
     "metadata": {},
     "output_type": "execute_result"
    }
   ],
   "source": [
    "categories = ['automotive', 'books', 'business', 'education', 'entertainment', 'family and relationship', 'finance', 'food', 'graphic and design', 'game', 'health and fitness', 'lifestyle', 'news and magazines', 'photo and video', 'real estate', 'shopping', 'social media', 'sports', 'travel', 'utility and productivity', 'games']\n",
    "\n",
    "df = pd.read_csv(\"output/App_metadata.csv\")\n",
    "# df\n",
    "df2 = df.loc[df['category'] == 'automotive']\n",
    "appIDs = df2['app_id'].values\n",
    "appIDs"
   ]
  },
  {
   "cell_type": "markdown",
   "id": "08abc23a",
   "metadata": {},
   "source": [
    "# APP REVIEWS"
   ]
  },
  {
   "cell_type": "code",
   "execution_count": null,
   "id": "2251cedc",
   "metadata": {},
   "outputs": [],
   "source": [
    "import csv\n",
    "\n",
    "from google_play_scraper import Sort, reviews_all\n",
    "with open('output/app_review.csv', 'w', newline='') as csv_file:\n",
    "    writer = csv.writer(csv_file)\n",
    "    writer.writerow(['app_id','reviewId', 'content', 'score', 'thumbsUpCount', 'reviewCreatedVersion', 'at', 'replyContent', 'repliedAt'])\n",
    "\n",
    "for appID in appIDs:\n",
    "    while True:\n",
    "        try:\n",
    "            result = reviews_all(\n",
    "                appID,\n",
    "                sleep_milliseconds=0, # defaults to 0\n",
    "                lang='en', # defaults to 'en'\n",
    "                country='in', # defaults to 'us'\n",
    "                sort=Sort.MOST_RELEVANT, # defaults to Sort.MOST_RELEVANT\n",
    "                filter_score_with=5 # defaults to None(means all score)\n",
    "            )\n",
    "            review_df = pd.DataFrame(np.array(result),columns=['review'])\n",
    "            review_df2 = review_df.join(pd.DataFrame(review_df.pop('review').tolist()))\n",
    "            # Inserting the column at the beginning in the DataFrame\n",
    "            #     new_col = [,,,,,,,,,,,]\n",
    "            #     df.insert(loc = 0, column = 'app_id', value = new_col)\n",
    "            review_df2.insert(loc = 0, column = \"app_id\", value = appID, allow_duplicates=False)\n",
    "\n",
    "\n",
    "            # g_df2 = g_df2.rename(columns={'appId': 'App_URL','title':'App_Name','genre':'Categories','score':'Rating','currency':'Loaction','installs':'Downloads'})\n",
    "            review_df2 = review_df2.drop(columns={'userImage' ,'userName'})\n",
    "            review_df2\n",
    "            review_df2.to_csv('output/app_review.csv', mode='a', index=False, header=False)\n",
    "        except ConnectionResetError as e:\n",
    "            if e.response.status_code == 54:\n",
    "                print(\"Connection reset by peer\")\n",
    "                time.sleep(300) #5 minutes\n",
    "                continue\n",
    "            else:\n",
    "                print(f\"Request failed with status code {e.response.status_code}\")\n",
    "                time.sleep(120) #2 minutes\n",
    "                continue\n",
    "        break\n",
    "    "
   ]
  },
  {
   "cell_type": "code",
   "execution_count": null,
   "id": "2df70412",
   "metadata": {},
   "outputs": [],
   "source": []
  }
 ],
 "metadata": {
  "kernelspec": {
   "display_name": "Python 3 (ipykernel)",
   "language": "python",
   "name": "python3"
  },
  "language_info": {
   "codemirror_mode": {
    "name": "ipython",
    "version": 3
   },
   "file_extension": ".py",
   "mimetype": "text/x-python",
   "name": "python",
   "nbconvert_exporter": "python",
   "pygments_lexer": "ipython3",
   "version": "3.9.13"
  }
 },
 "nbformat": 4,
 "nbformat_minor": 5
}
