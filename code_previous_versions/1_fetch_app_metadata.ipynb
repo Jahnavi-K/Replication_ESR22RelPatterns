{
 "cells": [
  {
   "cell_type": "code",
   "execution_count": null,
   "id": "760c61f0",
   "metadata": {},
   "outputs": [],
   "source": [
    "pip install google-play-scraper"
   ]
  },
  {
   "cell_type": "code",
   "execution_count": null,
   "id": "fef79f7d",
   "metadata": {},
   "outputs": [],
   "source": [
    "pip install --upgrade google-play-scraper"
   ]
  },
  {
   "cell_type": "code",
   "execution_count": null,
   "id": "07e08e3c",
   "metadata": {},
   "outputs": [],
   "source": [
    "pip install play_scraper"
   ]
  },
  {
   "cell_type": "code",
   "execution_count": null,
   "id": "8b1e4abf",
   "metadata": {},
   "outputs": [],
   "source": [
    "conda info --envs"
   ]
  },
  {
   "cell_type": "code",
   "execution_count": null,
   "id": "d71cdd1a",
   "metadata": {},
   "outputs": [],
   "source": [
    "import csv\n",
    "from google_play_scraper import app\n",
    "from time import sleep\n",
    "from datetime import datetime, timedelta\n",
    "\n",
    "# replace with the path to your CSV file\n",
    "csv_file_path = 'input/apps_sample.csv'\n",
    "\n",
    "# read the list of app names from the CSV file\n",
    "app_names = []\n",
    "with open(csv_file_path, 'r') as csv_file:\n",
    "    reader = csv.reader(csv_file)\n",
    "    next(reader) # skip header row\n",
    "    for row in reader:\n",
    "        app_name = row[0]\n",
    "        app_names.append(app_name)\n",
    "\n",
    "# fetch app information and write to a new CSV file\n",
    "with open('output/app_info.csv', 'w', newline='') as csv_file:\n",
    "    writer = csv.writer(csv_file)\n",
    "    writer.writerow(['App Name', 'Description', 'Downloads', 'Rating', 'Category', 'Size', 'User_base_size', 'Developer Apps'])\n",
    "\n",
    "    retries = 3\n",
    "    rate_limit_refresh_time = None\n",
    "    for app_name in app_names:\n",
    "        if rate_limit_refresh_time is not None and rate_limit_refresh_time > datetime.now():\n",
    "            # wait until rate limit refreshes\n",
    "            time_to_wait = rate_limit_refresh_time - datetime.now()\n",
    "            sleep(time_to_wait.seconds + 10) # add 10 seconds buffer\n",
    "\n",
    "        app_info = None\n",
    "        retry_count = 0\n",
    "        while app_info is None:\n",
    "            try:\n",
    "                results = app(app_name, lang='en', country='in', results=1)\n",
    "                if results:\n",
    "                    app_info = results[0]\n",
    "                else:\n",
    "                    print(f\"App '{app_name}' not found in Play Store anymore\")\n",
    "            except Exception as e:\n",
    "                if retry_count < retries:\n",
    "                    retry_count += 1\n",
    "                    print(f\"Error fetching '{app_name}' app info, retrying ({retry_count}/{retries})...\")\n",
    "                    sleep(5)\n",
    "                else:\n",
    "                    raise e\n",
    "            else:\n",
    "                retry_count = 0\n",
    "\n",
    "        if app_info:\n",
    "            app_id = app_info['app_id']\n",
    "            app_name = app_info['title']\n",
    "            description = app_info['description']\n",
    "            downloads = app_info['installs']\n",
    "            rating = app_info['score']\n",
    "            category = app_info['genre']\n",
    "            size = app_info['size']\n",
    "            user_base_size = downloads\n",
    "            developer_apps = app_info['developer_apps']\n",
    "\n",
    "            writer.writerow([app_name, description, downloads, rating, category, size, user_base_size, developer_apps])\n"
   ]
  },
  {
   "cell_type": "code",
   "execution_count": null,
   "id": "25738681",
   "metadata": {
    "scrolled": false
   },
   "outputs": [],
   "source": [
    "import csv\n",
    "from google_play_scraper import app, Sort, reviews, reviews_all\n",
    "import string\n",
    "\n",
    "# read app names from input csv file\n",
    "app_names = []\n",
    "with open('input/apps_sample.csv', 'r') as file:\n",
    "    reader = csv.reader(file)\n",
    "    for row in reader:\n",
    "        app_names.append(row[0])\n",
    "\n",
    "valid_chars = string.ascii_letters + string.digits + \" \"\n",
    "app_names = [app_name for app_name in app_names if all(c in valid_chars for c in app_name)]\n",
    "\n",
    "# result = app('com.google.android.youtube', lang='en', country='us')\n",
    "app_names = ['org.minddiagnostics']\n",
    "\n",
    "# set up output file and write header row\n",
    "with open('output/app_info.csv', 'w', newline='') as file:\n",
    "    writer = csv.writer(file)\n",
    "    writer.writerow(['App Name', 'Description', 'Number of Downloads', 'App Rating', 'App Category', 'App Size', 'User Base Size', 'Number of Apps Offered'])\n",
    "\n",
    "    for app_name in app_names:\n",
    "        # search for the app and retrieve its ID\n",
    "        search_results = app(app_name, lang='en', country='us')\n",
    "        if search_results:\n",
    "            app_id = search_results[0]['app_id']\n",
    "        else:\n",
    "            print(f\"App '{app_name}' not found in Play Store anymore\")\n",
    "            continue\n",
    "        \n",
    "        # fetch the desired information using the app ID\n",
    "        app_info = app(app_id, lang='en', country='us')\n",
    "        app_desc = app_info['description']\n",
    "        app_downloads = app_info['installs']\n",
    "        app_rating = app_info['score']\n",
    "        app_category = app_info['category']\n",
    "        app_size = app_info['size']\n",
    "        user_base_size = app_info['reviews']\n",
    "        num_apps = app_info['developer']['apps']\n",
    "        \n",
    "        writer.writerow([app_name, app_desc, app_downloads, app_rating, app_category, app_size, user_base_size, num_apps])\n"
   ]
  },
  {
   "cell_type": "code",
   "execution_count": null,
   "id": "cca76fe3",
   "metadata": {},
   "outputs": [],
   "source": [
    "from google_play_scraper import app,Sort,search\n",
    "import pandas as pd\n",
    "import numpy as np\n",
    "import json,os,uuid"
   ]
  },
  {
   "cell_type": "code",
   "execution_count": null,
   "id": "f633235d",
   "metadata": {},
   "outputs": [],
   "source": [
    "gplay = search(\n",
    "    \"Automotive\",\n",
    "    n_hits=2,\n",
    "    country= \"In\",\n",
    "    lang=\"en\",\n",
    ")"
   ]
  },
  {
   "cell_type": "code",
   "execution_count": null,
   "id": "f763622a",
   "metadata": {},
   "outputs": [],
   "source": [
    "g_df = pd.DataFrame(np.array(gplay),columns=['review'])\n",
    "g_df2 = g_df.join(pd.DataFrame(g_df.pop('review').tolist()))\n",
    "\n",
    "g_df2 = g_df2.rename(columns={'appId': 'App_URL','title':'App_Name','genre':'Categories','score':'Rating','currency':'Loaction','installs':'Downloads'})\n",
    "# g_df2 = g_df2.drop(columns={'icon' ,'screenshots','video','videoImage','descriptionHTML','description'})\n",
    "g_df2"
   ]
  },
  {
   "cell_type": "code",
   "execution_count": 2,
   "id": "f79a4c01",
   "metadata": {},
   "outputs": [
    {
     "ename": "ImportError",
     "evalue": "cannot import name 'collection' from 'google_play_scraper' (/Users/jahnavik/opt/anaconda3/lib/python3.9/site-packages/google_play_scraper/__init__.py)",
     "output_type": "error",
     "traceback": [
      "\u001b[0;31m---------------------------------------------------------------------------\u001b[0m",
      "\u001b[0;31mImportError\u001b[0m                               Traceback (most recent call last)",
      "\u001b[0;32m/var/folders/x0/kgtmv3zx2_93gbz58t37dxnm0000gn/T/ipykernel_28586/3936607790.py\u001b[0m in \u001b[0;36m<module>\u001b[0;34m\u001b[0m\n\u001b[0;32m----> 1\u001b[0;31m \u001b[0;32mfrom\u001b[0m \u001b[0mgoogle_play_scraper\u001b[0m \u001b[0;32mimport\u001b[0m \u001b[0mapp\u001b[0m\u001b[0;34m,\u001b[0m \u001b[0mcollection\u001b[0m\u001b[0;34m\u001b[0m\u001b[0;34m\u001b[0m\u001b[0m\n\u001b[0m\u001b[1;32m      2\u001b[0m \u001b[0;34m\u001b[0m\u001b[0m\n\u001b[1;32m      3\u001b[0m \u001b[0;31m# Define the collection to be 'topselling_free' or 'topselling_paid'\u001b[0m\u001b[0;34m\u001b[0m\u001b[0;34m\u001b[0m\u001b[0m\n\u001b[1;32m      4\u001b[0m \u001b[0mcollection_name\u001b[0m \u001b[0;34m=\u001b[0m \u001b[0mcollection\u001b[0m\u001b[0;34m(\u001b[0m\u001b[0;34m'topselling_free'\u001b[0m\u001b[0;34m,\u001b[0m \u001b[0;34m'IN'\u001b[0m\u001b[0;34m,\u001b[0m \u001b[0;34m'apps'\u001b[0m\u001b[0;34m)\u001b[0m\u001b[0;34m\u001b[0m\u001b[0;34m\u001b[0m\u001b[0m\n\u001b[1;32m      5\u001b[0m \u001b[0;34m\u001b[0m\u001b[0m\n",
      "\u001b[0;31mImportError\u001b[0m: cannot import name 'collection' from 'google_play_scraper' (/Users/jahnavik/opt/anaconda3/lib/python3.9/site-packages/google_play_scraper/__init__.py)"
     ]
    }
   ],
   "source": [
    "from google_play_scraper import app, collection\n",
    "\n",
    "# Define the collection to be 'topselling_free' or 'topselling_paid'\n",
    "collection_name = collection('topselling_free', 'IN', 'apps')\n",
    "\n",
    "# Define a list of categories you're interested in\n",
    "categories = ['AUTO_AND_VEHICLES', 'BOOKS_AND_REFERENCE', 'BUSINESS', 'COMICS', 'COMMUNICATION', 'EDUCATION',\n",
    "              'ENTERTAINMENT', 'FINANCE', 'FOOD_AND_DRINK', 'HEALTH_AND_FITNESS', 'HOUSE_AND_HOME', 'LIBRARIES_AND_DEMO',\n",
    "              'LIFESTYLE', 'MAPS_AND_NAVIGATION', 'MEDICAL', 'MUSIC_AND_AUDIO', 'NEWS_AND_MAGAZINES', 'PARENTING',\n",
    "              'PERSONALIZATION', 'PHOTOGRAPHY', 'PRODUCTIVITY', 'SHOPPING', 'SOCIAL', 'SPORTS', 'TOOLS', 'TRAVEL_AND_LOCAL',\n",
    "              'VIDEO_PLAYERS', 'WEATHER']\n",
    "\n",
    "top_apps = []\n",
    "for category in categories:\n",
    "    search_results = collection_name.get(category=category, num=1)\n",
    "    if search_results:\n",
    "        top_app = search_results[0]['appId']\n",
    "        app_details = app(top_app)\n",
    "        top_apps.append(app_details)\n",
    "\n",
    "# Print the results\n",
    "for app_details in top_apps:\n",
    "    print(app_details['title'], app_details['score'])\n"
   ]
  },
  {
   "cell_type": "code",
   "execution_count": null,
   "id": "d0c4dbb9",
   "metadata": {},
   "outputs": [],
   "source": []
  }
 ],
 "metadata": {
  "kernelspec": {
   "display_name": "Python 3 (ipykernel)",
   "language": "python",
   "name": "python3"
  },
  "language_info": {
   "codemirror_mode": {
    "name": "ipython",
    "version": 3
   },
   "file_extension": ".py",
   "mimetype": "text/x-python",
   "name": "python",
   "nbconvert_exporter": "python",
   "pygments_lexer": "ipython3",
   "version": "3.9.13"
  }
 },
 "nbformat": 4,
 "nbformat_minor": 5
}
